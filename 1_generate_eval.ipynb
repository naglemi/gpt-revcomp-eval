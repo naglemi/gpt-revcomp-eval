{
 "cells": [
  {
   "cell_type": "markdown",
   "id": "130e5459-7f9b-4662-a2a3-f95378b02adb",
   "metadata": {},
   "source": [
    "# DNA Sequence and Reverse Complement Database Preparation\n",
    "\n",
    "This notebook focuses on the preparation of a comprehensive database, consisting of DNA sequences and their corresponding reverse complements. While not essential for running the evaluation itself, the code presented here is instrumental in curating the dataset leveraged during the evaluation process.\n",
    "\n",
    "## Source Genome Data\n",
    "\n",
    "We have employed the v3.0 genome data of Populus trichocarpa (black cottonwood) for this purpose. This specific version of the genome is known for its detailed representation, making it an ideal choice for our analysis.\n",
    "\n",
    "## Citation for Genome Data\n",
    "Tuskan, Gerald A., et al. \"The genome of black cottonwood, Populus trichocarpa (Torr. & Gray).\" Science 313.5793 (2006): 1596-1604.\n",
    "\n",
    "## Data Availability\n",
    "The file Ptrichocarpa_444_v3.0.fa can be accessed and downloaded from the Pytozome-next.jgi.doe.gov portal."
   ]
  },
  {
   "cell_type": "markdown",
   "id": "ca8adf2d-e4e5-41bd-a973-1bd8f02027e5",
   "metadata": {},
   "source": [
    "## Code"
   ]
  },
  {
   "cell_type": "markdown",
   "id": "8cdd3208-6a15-4019-a1d6-9ab75e0afa4b",
   "metadata": {},
   "source": [
    "Feel free to explore the code cells below, where we randomly extract specific lengths of sequences from the defined chromosomes and generate their reverse complements. The final result is a pandas dataframe, neatly organizing the extracted sequences, their origin, positions, and corresponding reverse complements."
   ]
  },
  {
   "cell_type": "markdown",
   "id": "db67875a-0b18-4172-a435-0b88619306c6",
   "metadata": {},
   "source": [
    "### Produce dataframe of sequences and reverse complements for ground truth"
   ]
  },
  {
   "cell_type": "code",
   "execution_count": 1,
   "id": "613e376e-7f84-4648-ab7c-47b4904fa997",
   "metadata": {},
   "outputs": [
    {
     "name": "stdout",
     "output_type": "stream",
     "text": [
      "    chromosome     start       end  length  \\\n",
      "0        Chr02   2925499   2925646     147   \n",
      "1        Chr14   3613820   3613966     146   \n",
      "2        Chr02  17991954  17992158     204   \n",
      "3        Chr18  11435290  11435470     180   \n",
      "4        Chr02   4531776   4531867      91   \n",
      "..         ...       ...       ...     ...   \n",
      "495      Chr09   7304962   7305098     136   \n",
      "496      Chr05  19537658  19538138     480   \n",
      "497      Chr17   6350618   6350823     205   \n",
      "498      Chr07     91920     92401     481   \n",
      "499      Chr03  21249029  21249417     388   \n",
      "\n",
      "                                              sequence  \\\n",
      "0    ATGTCCACCATAAAACCAGAGCTACATAGCCATGGAAAGTTCTAAC...   \n",
      "1    CACTTCGCCACCATGTCCAATCCAATTTGGAATATTATCTTTAAGA...   \n",
      "2    AGATTCAATCCATTCAGGTCATTTGCTACTCCTTATTCTTGTTGGC...   \n",
      "3    TCTACTGTAATTGTTTGTAGTGACGTTTGCTGTCGGCCTCCTTTTG...   \n",
      "4    AAGATAAATATATTTTACATAATATTAATGAGCGATATATATTTAT...   \n",
      "..                                                 ...   \n",
      "495  TTTTTCAATGATTTGAAAAAAAAGAGGGTTTGACTCCGCTAAAGTA...   \n",
      "496  CTACTCTTAGGAATTAACTTAGGCCCCGCTTGTTTGCTGGAAAATA...   \n",
      "497  GGTTGCAAACACAGTGTCTGTAATTTTTATTGGTTTCTCAAGAACA...   \n",
      "498  CGCATCAAGGAATTATACTTGCAGCAGACCCAAGATCACAAGTGGG...   \n",
      "499  GCTACCTTTTGACAGATTGTTAATAGTCCTTTACCACTTCCAGAAG...   \n",
      "\n",
      "                                               revcomp  \n",
      "0    ACTTCTAGTTTTAAATACAATTGAATTCTAGTTTGACTAAATATGA...  \n",
      "1    TTGTTTTTGGGCAGTTGGTGATTGATTATCACATCGAGGCGGCTAG...  \n",
      "2    ATAAGTTAAAGCCTTGGAGGACCATAACCGCGTCAACTCATCAATC...  \n",
      "3    TGGGTAATCTCAACAGCACTAATTTGATCTATACACATGACTTTGC...  \n",
      "4    CTTAATATTATGTAAGGGGTACAAACCTCTCATTAATATTGTGTAA...  \n",
      "..                                                 ...  \n",
      "495  ATATGGCAGACGTTATATTATATTATAAAAAATTGAATTAACTTTT...  \n",
      "496  TATTTTTTTAATTGAATTTTTTTATATATTAAATTTGATCATCATT...  \n",
      "497  ACATAACACATCAGAATTTCGGACGTTTTTGTTTCAGTGTTTCCCA...  \n",
      "498  TTTTTTCTTTGACGAGAAACTTGCTTGAGGAAAGTCATATCGGATG...  \n",
      "499  GTTTATAGGGACTGGACCACCCTCTTTGACCACCCATGGATGCTCA...  \n",
      "\n",
      "[500 rows x 6 columns]\n"
     ]
    }
   ],
   "source": [
    "from Bio import SeqIO\n",
    "from Bio.Seq import Seq\n",
    "import pandas as pd\n",
    "import random\n",
    "\n",
    "random.seed(123)\n",
    "\n",
    "# Define X and Y\n",
    "X = 100\n",
    "Y = range(10, 511)\n",
    "\n",
    "# Read the FASTA file\n",
    "fasta_file = \"Ptrichocarpa_444_v3.0.fa\"\n",
    "\n",
    "# Store chromosome sequences and info, considering only chromosomes 1-19\n",
    "chromosomes_info = []\n",
    "for record in SeqIO.parse(fasta_file, \"fasta\"):\n",
    "    if record.id.startswith('Chr') and int(record.id[3:]) <= 19:\n",
    "        chromosomes_info.append({'id': record.id, 'length': len(record.seq), 'sequence': str(record.seq)})\n",
    "\n",
    "results = []\n",
    "\n",
    "while len(results) < X:\n",
    "    # Randomly select a chromosome and desired sequence length\n",
    "    chrom_info = random.choice(chromosomes_info)\n",
    "    y = random.choice(Y)\n",
    "\n",
    "    if y > chrom_info['length']:\n",
    "        continue\n",
    "\n",
    "    sequence = chrom_info['sequence']\n",
    "\n",
    "    # Randomly select a start position and check for 'N'\n",
    "    start = random.randint(0, chrom_info['length'] - y - 1)\n",
    "    end = start + y\n",
    "\n",
    "    while 'N' in sequence[start:end]:\n",
    "        start = random.randint(0, chrom_info['length'] - y - 1)\n",
    "        end = start + y\n",
    "\n",
    "    extracted_sequence = sequence[start:end]\n",
    "    reverse_complement = str(Seq(extracted_sequence).reverse_complement())\n",
    "\n",
    "    # Append to results\n",
    "    results.append({\n",
    "        'chromosome': chrom_info['id'],\n",
    "        'start': start,\n",
    "        'end': end,\n",
    "        'length': y,\n",
    "        'sequence': extracted_sequence,\n",
    "        'revcomp': reverse_complement\n",
    "    })\n",
    "\n",
    "# Convert to a dataframe\n",
    "df = pd.DataFrame(results)\n",
    "\n",
    "# Print the dataframe\n",
    "print(df)\n"
   ]
  },
  {
   "cell_type": "markdown",
   "id": "5c3e0b6a-e76f-432f-b369-f42e9266acb6",
   "metadata": {},
   "source": [
    "### Prepare `yaml` and `jsonl` files for eval"
   ]
  },
  {
   "cell_type": "code",
   "execution_count": 2,
   "id": "c98394ea-aaef-4d82-bf34-0c88474be1d6",
   "metadata": {},
   "outputs": [],
   "source": [
    "import os\n",
    "import json\n",
    "\n",
    "# Create the reverse_complement directory if it doesn't exist\n",
    "os.makedirs('reverse_complement', exist_ok=True)\n",
    "\n",
    "# Define a function to convert a single row to the JSONL format\n",
    "def row_to_jsonl_format(row):\n",
    "    system_content = (\"You are a bioinformatics assistant. Provide the reverse complement\"\n",
    "                      \" to each DNA sequence given, with no additional text or formatting.\")\n",
    "    content = {\n",
    "        \"input\": [\n",
    "            {\"role\": \"system\", \"content\": system_content},\n",
    "            {\"role\": \"user\", \"content\": row['sequence']}\n",
    "        ],\n",
    "        \"ideal\": row['revcomp']\n",
    "    }\n",
    "    return json.dumps(content)\n",
    "\n",
    "# Apply the function to the DataFrame and write to file\n",
    "with open('reverse_complement/reverse_complement.jsonl', 'w') as file:\n",
    "    for _, row in df.iterrows():\n",
    "        file.write(row_to_jsonl_format(row) + '\\n')\n"
   ]
  },
  {
   "cell_type": "code",
   "execution_count": 14,
   "id": "a982ed8d-7404-45ca-87b5-6f30741b0fab",
   "metadata": {},
   "outputs": [],
   "source": [
    "import yaml\n",
    "\n",
    "# YAML content for reverse complement\n",
    "yaml_content = {\n",
    "    \"reverse-complement\": {\n",
    "        \"id\": \"reverse-complement.s1.simple-v0\",\n",
    "        \"description\": \"Test the model's ability to provide the reverse complement to DNA sequences.\",\n",
    "        \"disclaimer\": \"The performance of models tends to depend on sequence length and repetition, with more artifacts appearing for longer sequences and polynucleotides.\",\n",
    "        \"metrics\": [\"accuracy\"]\n",
    "    },\n",
    "    \"reverse-complement.s1.simple-v0\": {\n",
    "        \"class\": \"evals.elsuite.basic.match:Match\",\n",
    "        \"args\": {\n",
    "            \"samples_jsonl\": \"reverse_complement/samples.jsonl\"\n",
    "        }\n",
    "    }\n",
    "}\n",
    "\n",
    "# Write the YAML content to a file\n",
    "with open('reverse_complement.yaml', 'w') as file:\n",
    "    yaml.dump(yaml_content, file, default_flow_style=False)\n"
   ]
  },
  {
   "cell_type": "markdown",
   "id": "b055b8a5-a897-4f5d-8dc5-dc611df9776d",
   "metadata": {},
   "source": [
    "## Place `json` and `yaml` in appropriate places in the `evals` repository"
   ]
  },
  {
   "cell_type": "code",
   "execution_count": 15,
   "id": "31764e23-6cbb-4ed0-b84c-c60dc8f9d849",
   "metadata": {},
   "outputs": [],
   "source": [
    "import os\n",
    "data_path = \"../evals/evals/registry/data/reverse_complement/\"\n",
    "isExist = os.path.exists(data_path)\n",
    "if not isExist:\n",
    "   os.makedirs(data_path)"
   ]
  },
  {
   "cell_type": "code",
   "execution_count": 16,
   "id": "71844f3c-79a3-4a5e-9a75-fab3cd96dd17",
   "metadata": {},
   "outputs": [],
   "source": [
    "with open('../evals/evals/registry/evals/reverse_complement.yaml', 'w') as file:\n",
    "    yaml.dump(yaml_content, file, default_flow_style=False)\n",
    "    \n",
    "with open(data_path + 'samples.jsonl', 'w') as file:\n",
    "    for _, row in df.iterrows():\n",
    "        file.write(row_to_jsonl_format(row) + '\\n')"
   ]
  },
  {
   "cell_type": "code",
   "execution_count": null,
   "id": "0cfc973e-85ee-47a2-9f8f-fbef72c60188",
   "metadata": {},
   "outputs": [],
   "source": []
  }
 ],
 "metadata": {
  "kernelspec": {
   "display_name": "Python 3 (ipykernel)",
   "language": "python",
   "name": "python3"
  },
  "language_info": {
   "codemirror_mode": {
    "name": "ipython",
    "version": 3
   },
   "file_extension": ".py",
   "mimetype": "text/x-python",
   "name": "python",
   "nbconvert_exporter": "python",
   "pygments_lexer": "ipython3",
   "version": "3.10.12"
  }
 },
 "nbformat": 4,
 "nbformat_minor": 5
}
