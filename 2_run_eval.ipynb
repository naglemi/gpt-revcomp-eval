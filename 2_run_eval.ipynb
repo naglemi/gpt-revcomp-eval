{
 "cells": [
  {
   "cell_type": "markdown",
   "id": "2e784448-54ee-4a68-bf3b-8f3103089612",
   "metadata": {},
   "source": [
    "# Deploy our eval"
   ]
  },
  {
   "cell_type": "code",
   "execution_count": 1,
   "id": "f67fdff2-0b8e-47ac-adfe-14917b43611c",
   "metadata": {},
   "outputs": [
    {
     "name": "stdout",
     "output_type": "stream",
     "text": [
      "\u001b[?2004h(evals) "
     ]
    },
    {
     "ename": "",
     "evalue": "1",
     "output_type": "error",
     "traceback": []
    }
   ],
   "source": [
    "conda activate evals"
   ]
  },
  {
   "cell_type": "code",
   "execution_count": 2,
   "id": "9a6dad23-1879-4f1a-8fab-2213d4ec11a5",
   "metadata": {},
   "outputs": [
    {
     "name": "stdout",
     "output_type": "stream",
     "text": [
      "\u001b[?2004h(evals) "
     ]
    },
    {
     "ename": "",
     "evalue": "1",
     "output_type": "error",
     "traceback": []
    }
   ],
   "source": [
    "cd /media/gmobot/data/NSF_GWAS/notebooks/GPT/evals/evals/cli"
   ]
  },
  {
   "cell_type": "code",
   "execution_count": null,
   "id": "f2061ba8-94ce-4afe-ab9c-4ff81eb730bf",
   "metadata": {},
   "outputs": [
    {
     "name": "stdout",
     "output_type": "stream",
     "text": [
      "[2023-08-07 12:21:22,460] [registry.py:270] Loading registry from /media/gmobot/data/NSF_GWAS/notebooks/GPT/evals/evals/registry/evals\n",
      "[2023-08-07 12:21:22,882] [registry.py:270] Loading registry from /home/gmobot/.evals/evals\n",
      "[2023-08-07 12:21:22,883] [oaieval.py:202] \u001b[1;35mRun started: 230807192122UZEV3VWW\u001b[0m\n",
      "[2023-08-07 12:21:22,885] [data.py:83] Fetching reverse_complement/samples.jsonl\n",
      "[2023-08-07 12:21:22,888] [eval.py:33] Evaluating 100 samples\n",
      "[2023-08-07 12:21:22,891] [eval.py:139] Running in threaded mode with 10 threads!\n",
      " 30%|████████████▌                             | 30/100 [18:49<36:15, 31.07s/it][2023-08-07 12:46:02,027] [_common.py:105] Backing off openai_chat_completion_create_retrying(...) for 0.8s (openai.error.APIError: HTTP code 502 from API (<html>\n",
      "<head><title>502 Bad Gateway</title></head>\n",
      "<body>\n",
      "<center><h1>502 Bad Gateway</h1></center>\n",
      "<hr><center>cloudflare</center>\n",
      "</body>\n",
      "</html>\n",
      "))\n",
      "[2023-08-07 13:00:23,062] [_common.py:105] Backing off openai_chat_completion_create_retrying(...) for 0.1s (openai.error.ServiceUnavailableError: The server is overloaded or not ready yet.)\n",
      "[2023-08-07 13:49:51,727] [_common.py:105] Backing off openai_chat_completion_create_retrying(...) for 0.1s (openai.error.APIError: HTTP code 502 from API (<html>\n",
      "<head><title>502 Bad Gateway</title></head>\n",
      "<body>\n",
      "<center><h1>502 Bad Gateway</h1></center>\n",
      "<hr><center>cloudflare</center>\n",
      "</body>\n",
      "</html>\n",
      "))\n",
      "[2023-08-07 13:56:45,378] [_common.py:105] Backing off openai_chat_completion_create_retrying(...) for 1.2s (openai.error.APIError: HTTP code 502 from API (<html>\n",
      "<head><title>502 Bad Gateway</title></head>\n",
      "<body>\n",
      "<center><h1>502 Bad Gateway</h1></center>\n",
      "<hr><center>cloudflare</center>\n",
      "</body>\n",
      "</html>\n",
      "))\n",
      " 47%|█████████████████▍                   | 47/100 [5:15:44<9:41:35, 658.40s/it][2023-08-07 19:20:40,959] [_common.py:105] Backing off openai_chat_completion_create_retrying(...) for 0.1s (openai.error.APIError: HTTP code 502 from API (<html>\n",
      "<head><title>502 Bad Gateway</title></head>\n",
      "<body>\n",
      "<center><h1>502 Bad Gateway</h1></center>\n",
      "<hr><center>cloudflare</center>\n",
      "</body>\n",
      "</html>\n",
      "))\n",
      " 49%|█████████████████▏                 | 49/100 [6:59:50<23:09:18, 1634.48s/it][2023-08-07 19:23:14,206] [record.py:331] Logged 100 rows of events to /tmp/evallogs/230807192122UZEV3VWW_gpt-3.5-turbo_reverse-complement.jsonl: insert_time=6.763ms\n",
      " 53%|███████████████████▌                 | 53/100 [7:05:55<5:57:15, 456.07s/it][2023-08-07 19:35:11,288] [_common.py:105] Backing off openai_chat_completion_create_retrying(...) for 2.6s (openai.error.APIError: HTTP code 502 from API (<html>\n",
      "<head><title>502 Bad Gateway</title></head>\n",
      "<body>\n",
      "<center><h1>502 Bad Gateway</h1></center>\n",
      "<hr><center>cloudflare</center>\n",
      "</body>\n",
      "</html>\n",
      "))\n",
      " 63%|█████████████████████████▏              | 63/100 [7:28:20<22:39, 36.74s/it][2023-08-07 20:14:17,468] [_common.py:105] Backing off openai_chat_completion_create_retrying(...) for 0.4s (openai.error.APIError: HTTP code 502 from API (<html>\n",
      "<head><title>502 Bad Gateway</title></head>\n",
      "<body>\n",
      "<center><h1>502 Bad Gateway</h1></center>\n",
      "<hr><center>cloudflare</center>\n",
      "</body>\n",
      "</html>\n",
      "))\n",
      "[2023-08-07 20:40:15,860] [_common.py:105] Backing off openai_chat_completion_create_retrying(...) for 0.4s (openai.error.APIError: HTTP code 502 from API (<html>\n",
      "<head><title>502 Bad Gateway</title></head>\n",
      "<body>\n",
      "<center><h1>502 Bad Gateway</h1></center>\n",
      "<hr><center>cloudflare</center>\n",
      "</body>\n",
      "</html>\n",
      "))\n",
      " 66%|████████████████████████▍            | 66/100 [8:36:01<5:45:38, 609.94s/it][2023-08-07 21:20:04,244] [_common.py:105] Backing off openai_chat_completion_create_retrying(...) for 0.7s (openai.error.APIError: HTTP code 502 from API (<html>\n",
      "<head><title>502 Bad Gateway</title></head>\n",
      "<body>\n",
      "<center><h1>502 Bad Gateway</h1></center>\n",
      "<hr><center>cloudflare</center>\n",
      "</body>\n",
      "</html>\n",
      "))\n",
      "[2023-08-07 22:39:30,973] [_common.py:105] Backing off openai_chat_completion_create_retrying(...) for 0.3s (openai.error.APIError: HTTP code 502 from API (<html>\n",
      "<head><title>502 Bad Gateway</title></head>\n",
      "<body>\n",
      "<center><h1>502 Bad Gateway</h1></center>\n",
      "<hr><center>cloudflare</center>\n",
      "</body>\n",
      "</html>\n",
      "))\n"
     ]
    }
   ],
   "source": [
    "python oaieval.py gpt-3.5-turbo reverse-complement"
   ]
  },
  {
   "cell_type": "code",
   "execution_count": null,
   "id": "48436daf-bed1-4667-a001-c560577db43f",
   "metadata": {},
   "outputs": [],
   "source": []
  }
 ],
 "metadata": {
  "kernelspec": {
   "display_name": "Bash",
   "language": "bash",
   "name": "bash"
  },
  "language_info": {
   "codemirror_mode": "shell",
   "file_extension": ".sh",
   "mimetype": "text/x-sh",
   "name": "bash"
  }
 },
 "nbformat": 4,
 "nbformat_minor": 5
}
